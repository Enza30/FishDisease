{
 "cells": [
  {
   "cell_type": "code",
   "execution_count": null,
   "id": "03c781e1",
   "metadata": {},
   "outputs": [],
   "source": [
    "import os\n",
    "os.environ['CUDA_VISIBLE_DEVICES'] = '-1'"
   ]
  },
  {
   "cell_type": "code",
   "execution_count": null,
   "id": "8441ba02",
   "metadata": {},
   "outputs": [],
   "source": [
    "import numpy as np \n",
    "import matplotlib.pyplot as plt\n",
    "import glob\n",
    "import cv2 as cv\n",
    "# import seaborn as sns\n",
    "import pandas as pd\n",
    "from skimage.filters import sobel\n",
    "from skimage.feature import greycomatrix, greycoprops\n",
    "from skimage.measure import shannon_entropy\n",
    "from sklearn.model_selection import train_test_split\n",
    "from sklearn.preprocessing import StandardScaler\n",
    "import pickle\n",
    "from PIL import Image\n",
    "from tqdm.notebook import tqdm\n",
    "\n",
    "from sklearn.cluster import KMeans\n",
    "from sklearn.cluster import MiniBatchKMeans\n",
    "from sklearn.metrics import confusion_matrix, classification_report\n",
    "\n",
    "import torch\n",
    "import torch.nn as nn\n",
    "import torch.optim as optim\n",
    "from torch.utils.data import Dataset, DataLoader, WeightedRandomSampler"
   ]
  },
  {
   "cell_type": "code",
   "execution_count": null,
   "id": "3fb6b4a7",
   "metadata": {},
   "outputs": [],
   "source": [
    "df = pd.read_csv(\"features.csv\")\n",
    "dt = pd.read_csv(\"Data_test.csv\")\n",
    "df.head()"
   ]
  },
  {
   "cell_type": "code",
   "execution_count": null,
   "id": "af682c24",
   "metadata": {},
   "outputs": [],
   "source": [
    "df.drop(['filenames'], axis=1, inplace=True)\n",
    "df.drop(['Unnamed: 0'], axis=1, inplace=True)\n",
    "df.head()"
   ]
  },
  {
   "cell_type": "code",
   "execution_count": null,
   "id": "037c422e",
   "metadata": {},
   "outputs": [],
   "source": [
    "label_distr = df['output'].value_counts()\n",
    "\n",
    "label_name = ['Normal','RS','MAS','WS']\n",
    "\n",
    "\n",
    "print(label_distr)"
   ]
  },
  {
   "cell_type": "code",
   "execution_count": null,
   "id": "ee848072",
   "metadata": {},
   "outputs": [],
   "source": [
    "from sklearn.preprocessing import LabelEncoder\n",
    "from keras.utils.np_utils import to_categorical\n",
    "\n",
    "from sklearn.model_selection import train_test_split\n",
    "\n",
    "from sklearn.metrics import classification_report\n",
    "from sklearn.metrics import confusion_matrix\n",
    "from sklearn import preprocessing"
   ]
  },
  {
   "cell_type": "code",
   "execution_count": null,
   "id": "2ee0a682",
   "metadata": {},
   "outputs": [],
   "source": [
    "def decimal_scaling(data):\n",
    "    data = np.array(data, dtype=np.float32)\n",
    "    max_row = data.max(axis=0)\n",
    "    c = np.array([len(str(int(number))) for number in np.abs(max_row)])\n",
    "    return data/(10**c)\n",
    "\n",
    "X = decimal_scaling(df[['Energy_0', 'Corr_0', 'Homogen_0', 'Contrast_0', 'ASM_0',\n",
    "                        'Energy_45', 'Corr_45', 'Homogen_45', 'Contrast_45', 'ASM_45',\n",
    "                        'Energy_90', 'Corr_90', 'Homogen_90', 'Contrast_90', 'ASM_90',\n",
    "                        'Energy_135', 'Corr_135', 'Homogen_135', 'Contrast_135', 'ASM_135']].values)"
   ]
  },
  {
   "cell_type": "code",
   "execution_count": null,
   "id": "dd8d281f",
   "metadata": {},
   "outputs": [],
   "source": [
    "le = LabelEncoder()\n",
    "le.fit(df[\"output\"].values)\n",
    "\n",
    "print(\" categorical label : \\n\", le.classes_)\n",
    "\n",
    "Y = le.transform(df['output'].values)\n",
    "Y = to_categorical(Y)\n",
    "\n",
    "print(\"\\n\\n one hot encoding for sample 0 : \\n\", Y[0])"
   ]
  },
  {
   "cell_type": "code",
   "execution_count": null,
   "id": "e7b35b84",
   "metadata": {},
   "outputs": [],
   "source": [
    "X_train, X_test, y_train, y_test = \\\n",
    "                    train_test_split(X, \n",
    "                                     Y, \n",
    "                                     test_size=0.2, \n",
    "                                     random_state=42)\n",
    "  \n",
    "print(\"Dimensi data :\\n\")\n",
    "print(\"X train \\t X test \\t Y train \\t Y test\")  \n",
    "print(\"%s \\t %s \\t %s \\t %s\" % (X_train.shape, X_test.shape, y_train.shape, y_test.shape))"
   ]
  },
  {
   "cell_type": "code",
   "execution_count": null,
   "id": "b69e2e6b",
   "metadata": {},
   "outputs": [],
   "source": [
    "from keras.models import Sequential\n",
    "from keras.layers import Dense, Activation\n",
    "\n",
    "import keras\n",
    "from keras import backend as K"
   ]
  },
  {
   "cell_type": "code",
   "execution_count": null,
   "id": "14424bb3",
   "metadata": {},
   "outputs": [],
   "source": [
    "def precision(y_true, y_pred):\n",
    "    true_positives = K.sum(K.round(K.clip(y_true * y_pred, 0, 1)))\n",
    "    possible_positives = K.sum(K.round(K.clip(y_true, 0, 1)))\n",
    "    recall = true_positives / (possible_positives + K.epsilon())\n",
    "    return recall\n",
    "\n",
    "def recall(y_true, y_pred):\n",
    "    true_positives = K.sum(K.round(K.clip(y_true * y_pred, 0, 1)))\n",
    "    predicted_positives = K.sum(K.round(K.clip(y_pred, 0, 1)))\n",
    "    precision = true_positives / (predicted_positives + K.epsilon())\n",
    "    return precision\n",
    "\n",
    "def nn_model(max_len):\n",
    "    \n",
    "    model = Sequential()\n",
    "    model.add(Dense(32,\n",
    "                    activation=\"elu\",\n",
    "                    input_shape=(max_len,)))\n",
    "    model.add(Dense(128, activation=\"elu\"))\n",
    "    model.add(Dense(64, activation=\"elu\"))\n",
    "    model.add(Dense(32, activation=\"elu\"))\n",
    "    model.add(Dense(16, activation=\"elu\"))\n",
    "    model.add(Dense(4))\n",
    "    model.add(Activation(\"sigmoid\"))\n",
    "    \n",
    "    model.summary()\n",
    "    \n",
    "    model.compile(optimizer='adam',\n",
    "                  loss='categorical_crossentropy',\n",
    "                  metrics = ['accuracy', precision, recall])\n",
    "    return model\n",
    "\n",
    "def check_model(model_, x, y, x_val, y_val, epochs_, batch_size_):\n",
    "    \n",
    "    hist = model_.fit(x,\n",
    "                      y,\n",
    "                      epochs=epochs_,\n",
    "                      batch_size=batch_size_,\n",
    "                      validation_data=(x_val,y_val))\n",
    "    return hist"
   ]
  },
  {
   "cell_type": "code",
   "execution_count": null,
   "id": "802b6f8b",
   "metadata": {},
   "outputs": [],
   "source": [
    "max_len = X_train.shape[1]\n",
    "\n",
    "EPOCHS = 500\n",
    "BATCH_SIZE = 32\n",
    "\n",
    "model = nn_model(max_len)\n",
    "history=check_model(model, X_train,y_train,X_test,y_test, EPOCHS, BATCH_SIZE)"
   ]
  },
  {
   "cell_type": "code",
   "execution_count": null,
   "id": "2337c77a",
   "metadata": {},
   "outputs": [],
   "source": [
    "hist_df = pd.DataFrame(history.history)\n",
    "hist_df['epoch'] = hist_df.index + 1\n",
    "cols = list(hist_df.columns)\n",
    "cols = [cols[-1]] + cols[:-1]\n",
    "hist_df = hist_df[cols]\n",
    "hist_df.head(500)"
   ]
  },
  {
   "cell_type": "code",
   "execution_count": null,
   "id": "112ff3c1",
   "metadata": {},
   "outputs": [],
   "source": [
    "values_of_best_model = hist_df[hist_df.val_loss == hist_df.val_loss.min()]\n",
    "values_of_best_model"
   ]
  },
  {
   "cell_type": "code",
   "execution_count": null,
   "id": "e2605d67",
   "metadata": {},
   "outputs": [],
   "source": [
    "model.summary()"
   ]
  },
  {
   "cell_type": "code",
   "execution_count": null,
   "id": "6fb9520c",
   "metadata": {},
   "outputs": [],
   "source": [
    "import itertools\n",
    "def plot_confusion_matrix(cm, classes,\n",
    "                          normalize=False,\n",
    "                          title='Confusion matrix',\n",
    "                          cmap=plt.cm.Blues):\n",
    "    if normalize:\n",
    "        cm = cm.astype('float') / cm.sum(axis=1)[:, np.newaxis]\n",
    "\n",
    "    plt.figure(figsize=(10, 10))\n",
    "    \n",
    "    plt.imshow(cm, interpolation='nearest', cmap=cmap)\n",
    "    plt.title(title)\n",
    "    plt.colorbar()\n",
    "    \n",
    "    tick_marks = np.arange(len(classes))\n",
    "    plt.xticks(tick_marks, classes, rotation=45)\n",
    "    plt.yticks(tick_marks, classes)\n",
    "\n",
    "    fmt = '.2f' if normalize else 'd'\n",
    "    thresh = cm.max() / 2.\n",
    "    for i, j in itertools.product(range(cm.shape[0]), range(cm.shape[1])):\n",
    "        plt.text(j, i, format(cm[i, j], fmt),\n",
    "                 horizontalalignment=\"center\",\n",
    "                 color=\"white\" if cm[i, j] > thresh else \"black\")\n",
    "\n",
    "    plt.tight_layout()\n",
    "    plt.ylabel('True label')\n",
    "    plt.xlabel('Predicted label')\n",
    "    plt.show()"
   ]
  },
  {
   "cell_type": "code",
   "execution_count": null,
   "id": "d50ed9a3",
   "metadata": {},
   "outputs": [],
   "source": [
    " # predict test data\n",
    "y_pred=model.predict_proba(X_test)\n",
    "print(y_pred)"
   ]
  },
  {
   "cell_type": "code",
   "execution_count": null,
   "id": "46925a36",
   "metadata": {},
   "outputs": [],
   "source": [
    "predict = []\n",
    "for i in range(0,16):\n",
    "    predict.append(max(y_pred[i]))\n",
    "predict"
   ]
  },
  {
   "cell_type": "code",
   "execution_count": null,
   "id": "51844188",
   "metadata": {},
   "outputs": [],
   "source": [
    "# Compute confusion matrix\n",
    "cnf_matrix = confusion_matrix(y_test.argmax(axis=1), y_pred.argmax(axis=1))\n",
    "np.set_printoptions(precision=2)"
   ]
  },
  {
   "cell_type": "code",
   "execution_count": null,
   "id": "4864b62d",
   "metadata": {},
   "outputs": [],
   "source": [
    "# Plot non-normalized confusion matrix\n",
    "plot_confusion_matrix(cnf_matrix,\n",
    "                      classes=['Normal','RS','MAS','WS'],\n",
    "                      normalize=False,\n",
    "                      title='Confusion matrix, with normalization')"
   ]
  },
  {
   "cell_type": "code",
   "execution_count": null,
   "id": "d8b9a523",
   "metadata": {},
   "outputs": [],
   "source": [
    "print(classification_report(y_test.argmax(axis=1),\n",
    "                            y_pred.argmax(axis=1),\n",
    "                            target_names=['Normal','RS','MAS','WS']))"
   ]
  },
  {
   "cell_type": "code",
   "execution_count": null,
   "id": "6a43e7bc",
   "metadata": {},
   "outputs": [],
   "source": [
    "ytest = dt['output']\n",
    "xtest = dt.drop(columns=['Unnamed: 0', 'output','filenames'])\n",
    "xtest = preprocessing.StandardScaler().fit(xtest).transform(xtest.astype(float))\n",
    "dt.head()"
   ]
  },
  {
   "cell_type": "code",
   "execution_count": null,
   "id": "d07d76e2",
   "metadata": {},
   "outputs": [],
   "source": [
    "le = LabelEncoder()\n",
    "le.fit(dt[\"output\"].values)\n",
    "\n",
    "print(\" categorical label : \\n\", le.classes_)\n",
    "\n",
    "y2 = le.transform(dt['output'].values)\n",
    "y2 = to_categorical(y2)\n",
    "\n",
    "print(\"\\n\\n one hot encoding for sample 0 : \\n\", y2[0])"
   ]
  },
  {
   "cell_type": "code",
   "execution_count": null,
   "id": "fe2de98e",
   "metadata": {},
   "outputs": [],
   "source": [
    "y2test = y2"
   ]
  },
  {
   "cell_type": "code",
   "execution_count": null,
   "id": "6f5b07c3",
   "metadata": {},
   "outputs": [],
   "source": [
    "xtest.shape, y2test.shape"
   ]
  },
  {
   "cell_type": "code",
   "execution_count": null,
   "id": "700c388f",
   "metadata": {},
   "outputs": [],
   "source": [
    "from sklearn.metrics import accuracy_score"
   ]
  },
  {
   "cell_type": "code",
   "execution_count": null,
   "id": "f8aa0712",
   "metadata": {},
   "outputs": [],
   "source": [
    "ypredict = model.predict(xtest)\n",
    "print (ypredict)"
   ]
  },
  {
   "cell_type": "code",
   "execution_count": null,
   "id": "5221124e",
   "metadata": {},
   "outputs": [],
   "source": [
    "# Compute confusion matrix\n",
    "cnf_matrix = confusion_matrix(y2test.argmax(axis=1), ypredict.argmax(axis=1))\n",
    "np.set_printoptions(precision=2)"
   ]
  },
  {
   "cell_type": "code",
   "execution_count": null,
   "id": "b60b90b4",
   "metadata": {},
   "outputs": [],
   "source": [
    "# Plot non-normalized confusion matrix\n",
    "plot_confusion_matrix(cnf_matrix,\n",
    "                      classes=['Normal','RS','MAS','WS'],\n",
    "                      normalize=False,\n",
    "                      title='Confusion matrix, with normalization')"
   ]
  },
  {
   "cell_type": "code",
   "execution_count": null,
   "id": "f55e4bfd",
   "metadata": {},
   "outputs": [],
   "source": [
    "print(classification_report(y2test.argmax(axis=1),\n",
    "                            ypredict.argmax(axis=1),\n",
    "                            target_names=['Normal','RS','MAS','WS']))"
   ]
  },
  {
   "cell_type": "code",
   "execution_count": null,
   "id": "fd3ca9a2",
   "metadata": {},
   "outputs": [],
   "source": [
    "import gradio as gr\n",
    "import cv2\n",
    "\n",
    "from sklearn.cluster import KMeans\n",
    "from skimage.feature import greycomatrix, greycoprops"
   ]
  },
  {
   "cell_type": "code",
   "execution_count": null,
   "id": "708539d2",
   "metadata": {},
   "outputs": [],
   "source": [
    "def preprocessing(img):\n",
    "    resized = cv2.resize(img, (256,256),Image.BICUBIC)\n",
    "    bgr = resized[:, :, ::-1].copy()\n",
    "\n",
    "    lab = cv2.cvtColor(bgr, cv2.COLOR_BGR2LAB)\n",
    "    clahe = cv2.createCLAHE(clipLimit=0)\n",
    "    lab[:,:,0] = clahe.apply(lab[:,:,0])\n",
    "    lab[:,:,1] = clahe.apply(lab[:,:,1])\n",
    "    lab[:,:,2] = clahe.apply(lab[:,:,2])\n",
    "    bgr = cv2.cvtColor(lab, cv2.COLOR_LAB2BGR)\n",
    "    res = cv2.fastNlMeansDenoisingColored(bgr, None, 10, 10, 1, 3)\n",
    "        #bgr = cv2.bilateralFilter(bgr, 5, 1, 1)\n",
    "    return res\n",
    "\n",
    "def segmentation(img, online=False):\n",
    "    pre = preprocessing(img)\n",
    "    image = cv2.cvtColor(pre, cv2.COLOR_BGR2LAB)\n",
    "    image = image.reshape((256*256,3))\n",
    "\n",
    "    clt = KMeans(n_clusters = 5)\n",
    "    labels = clt.fit_predict(image)\n",
    "    quant = clt.cluster_centers_.astype(\"uint8\")[labels]\n",
    "    quant = quant.reshape((256, 256, 3))\n",
    "    res = image.reshape((256, 256, 3))\n",
    "\n",
    "    if online:\n",
    "        return quant\n",
    "\n",
    "    return res\n",
    "\n",
    "def gray_segmentation(img):\n",
    "    pre = preprocessing(img)\n",
    "    segmented = segmentation(pre, True)\n",
    "    bgr = cv2.cvtColor(segmented, cv2.COLOR_LAB2BGR)\n",
    "    res = cv2.cvtColor(bgr, cv2.COLOR_BGR2GRAY)\n",
    "    return res\n",
    "\n",
    "def extract(img, online=False):\n",
    "    image= gray_segmentation(img)\n",
    "    degs = [0, np.pi/4, np.pi/2, 3*np.pi/4]\n",
    "    post = [0, 45, 90, 135]\n",
    "    val = []\n",
    "    for i,deg in enumerate(degs):\n",
    "        GLCM = greycomatrix(image, [3], [deg])\n",
    "        energy = greycoprops(GLCM, 'energy')[0]\n",
    "        corr = greycoprops(GLCM, 'correlation')[0]\n",
    "        hom = greycoprops(GLCM, 'homogeneity')[0]\n",
    "        contr = greycoprops(GLCM, 'contrast')[0]\n",
    "        asm = greycoprops(GLCM, 'ASM')[0]\n",
    "        \n",
    "        temp = [post[i], energy[0], corr[0], hom[0], contr[0], asm[0]]\n",
    "        val.append(temp)\n",
    "\n",
    "    res = pd.DataFrame(\n",
    "        np.array(val),\n",
    "        columns= ['Degree', 'Contrast', 'Energy', 'Korelasi', 'ASM', 'Homogenity'],\n",
    "    )\n",
    "\n",
    "    if online:\n",
    "        return np.array(val)\n",
    "    return res\n",
    "\n",
    "def predict_(img):\n",
    "    feature = extract(img, True)[:, 1:]\n",
    "    # print(feature.shape)\n",
    "    target_names=['Normal','RS','MAS','WS']\n",
    "    feature = feature.reshape((1,20))\n",
    "    pred = model.predict(feature)\n",
    "\n",
    "    return target_names[pred.argmax()]\n",
    "\n"
   ]
  },
  {
   "cell_type": "code",
   "execution_count": null,
   "id": "a5d30b8d",
   "metadata": {},
   "outputs": [],
   "source": [
    "demo = gr.Blocks()\n",
    "\n",
    "with demo:\n",
    "    gr.Markdown('Step by step Demo')\n",
    "    img_input = gr.Image()\n",
    "    # with gr.Row():\n",
    "    img_preprocess = gr.Image()\n",
    "    button_preprocess = gr.Button('Preprocessing Button')\n",
    "\n",
    "    # with gr.Row():\n",
    "    img_segmentation = gr.Image()\n",
    "    button_segm = gr.Button(\"Segmentation Button\")\n",
    "    \n",
    "    # with gr.Row():\n",
    "    img_grayscale = gr.Image()\n",
    "    button_gray = gr.Button(\"RGB to Grayscale Button\")\n",
    "\n",
    "    # with gr.Row():\n",
    "    data = gr.DataFrame(\n",
    "        headers= ['Degree','Contrast', 'Energy', 'Korelasi', 'ASM', 'Homogenity'],\n",
    "            # row_count=(1, 'fixed')\n",
    "        )\n",
    "    button_extract = gr.Button('Extract Data')\n",
    "    \n",
    "    output = gr.Textbox(label=\"Prediction Result\")\n",
    "    button_predict = gr.Button('Predict')\n",
    "    button_preprocess.click(preprocessing, inputs=img_input, outputs=img_preprocess)\n",
    "    button_segm.click(segmentation, inputs=img_input, outputs=img_segmentation)\n",
    "    button_gray.click(gray_segmentation, inputs=img_input, outputs=img_grayscale)\n",
    "    button_extract.click(extract, inputs=img_input, outputs=data)\n",
    "    button_predict.click(predict_, inputs=img_input, outputs=output)"
   ]
  },
  {
   "cell_type": "code",
   "execution_count": null,
   "id": "ad1e9718",
   "metadata": {},
   "outputs": [],
   "source": [
    "demo.close()\n",
    "demo.launch()"
   ]
  },
  {
   "cell_type": "code",
   "execution_count": null,
   "id": "e73bb55a",
   "metadata": {},
   "outputs": [],
   "source": []
  }
 ],
 "metadata": {
  "kernelspec": {
   "display_name": "fish_env",
   "language": "python",
   "name": "fish_env"
  },
  "language_info": {
   "codemirror_mode": {
    "name": "ipython",
    "version": 3
   },
   "file_extension": ".py",
   "mimetype": "text/x-python",
   "name": "python",
   "nbconvert_exporter": "python",
   "pygments_lexer": "ipython3",
   "version": "3.7.11"
  }
 },
 "nbformat": 4,
 "nbformat_minor": 5
}
