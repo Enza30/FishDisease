{
 "cells": [
  {
   "cell_type": "code",
   "execution_count": null,
   "id": "a6151221",
   "metadata": {},
   "outputs": [],
   "source": [
    "import numpy as np \n",
    "import matplotlib.pyplot as plt\n",
    "import glob\n",
    "import cv2 as cv\n",
    "import os\n",
    "import seaborn as sns\n",
    "import pandas as pd\n",
    "from skimage.filters import sobel\n",
    "from skimage.feature import greycomatrix, greycoprops\n",
    "from skimage.measure import shannon_entropy\n",
    "from sklearn.model_selection import train_test_split\n",
    "from sklearn.preprocessing import StandardScaler\n",
    "import pickle\n",
    "from PIL import Image\n",
    "from tqdm.notebook import tqdm\n",
    "\n",
    "from sklearn.cluster import KMeans\n",
    "from sklearn.cluster import MiniBatchKMeans\n",
    "from sklearn.metrics import confusion_matrix, classification_report\n",
    "\n",
    "import torch\n",
    "import torch.nn as nn\n",
    "import torch.optim as optim\n",
    "from torch.utils.data import Dataset, DataLoader, WeightedRandomSampler"
   ]
  },
  {
   "cell_type": "code",
   "execution_count": null,
   "id": "75503cdd",
   "metadata": {},
   "outputs": [],
   "source": [
    "def clahe(image, denoise=False, verbose=False, limit=None):\n",
    "    # bgr = cv2.imread(image_path)\n",
    "    bgr = image\n",
    "\n",
    "    lab = cv.cvtColor(bgr, cv.COLOR_BGR2LAB)\n",
    "    lab_planes = cv.split(lab)\n",
    "    clahe = cv.createCLAHE(clipLimit=limit)\n",
    "    lab_planes[0] = clahe.apply(lab_planes[0])\n",
    "    #lab_planes[1] = clahe.apply(lab_planes[1])\n",
    "    #lab_planes[2] = clahe.apply(lab_planes[2])\n",
    "    lab = cv.merge(lab_planes)\n",
    "    bgr = cv.cvtColor(lab, cv.COLOR_LAB2BGR)\n",
    "\n",
    "    if denoise:\n",
    "        bgr = cv.fastNlMeansDenoisingColored(bgr, None, 10, 10, 1, 3)\n",
    "        #bgr = cv2.bilateralFilter(bgr, 5, 1, 1)\n",
    "\n",
    "    if verbose:\n",
    "        cv.imshow(\"test\", bgr)\n",
    "        cv.waitKey(0)\n",
    "        cv.destroyAllWindows()\n",
    "    return bgr"
   ]
  },
  {
   "cell_type": "code",
   "execution_count": null,
   "id": "a40d7d6f",
   "metadata": {},
   "outputs": [],
   "source": [
    "SIZE = 256"
   ]
  },
  {
   "cell_type": "code",
   "execution_count": null,
   "id": "e4881a6b",
   "metadata": {},
   "outputs": [],
   "source": [
    "image_data = []\n",
    "labels_data = []\n",
    "image_paths = []\n",
    "\n",
    "for directory_path in glob.glob(\"dataset/*\"): \n",
    "    label = directory_path.split(\"\\\\\")[-1]\n",
    "    print(label)\n",
    "    count = 0\n",
    "    for img_path in glob.glob(os.path.join(directory_path, \"*.jpg\")):\n",
    "        print(img_path)\n",
    "        im = Image.open(img_path).convert(\"RGB\")\n",
    "        new_img = im.resize((SIZE,SIZE),Image.BICUBIC)\n",
    "        image = np.array(new_img)\n",
    "        image = image[:, :, ::-1].copy()\n",
    "        (h1, w1) = image.shape[:2]\n",
    "        print(h1, w1)\n",
    "        cv.imwrite(f\"Data/progress/resized/resize_fish_{str(count)}_{str(label)}.jpg\", image)\n",
    "        image = clahe(image, denoise=True, limit=0)\n",
    "        cv.imwrite(f\"Data/progress/clahe/clahe_fish_{str(count)}_{str(label)}.jpg\", image)\n",
    "        image = cv.cvtColor(image, cv.COLOR_RGB2Lab)\n",
    "        cv.imwrite(f\"Data/progress/cielab/cielab_fish_{str(count)}_{str(label)}.jpg\", image)\n",
    "        image = image.reshape((image.shape[0] * image.shape[1], 3))\n",
    "        clt = KMeans(n_clusters = 5)\n",
    "        labels = clt.fit_predict(image)\n",
    "        quant = clt.cluster_centers_.astype(\"uint8\")[labels]\n",
    "        quant = quant.reshape((h1, w1, 3))\n",
    "        image = image.reshape((h1, w1, 3))\n",
    "        cv.imwrite(f\"Data/progress/kmeans/kmeans_fish_{str(count)}_{str(label)}.jpg\", quant)\n",
    "        cv.imwrite(f\"Data/progress/segmented/segmented_fish_{str(count)}_{str(label)}.jpg\", image)\n",
    "        quant = cv.cvtColor(quant, cv.COLOR_LAB2BGR)\n",
    "        image_gray = cv.cvtColor(quant, cv.COLOR_BGR2GRAY)\n",
    "        cv.imwrite(f\"Data/progress/grayscale/gray{str(count)}_{str(label)}.jpg\",image_gray)\n",
    "        image_data.append(image_gray)\n",
    "        labels_data.append(label)\n",
    "        image_paths.append(img_path)\n",
    "        count = count + 1"
   ]
  },
  {
   "cell_type": "code",
   "execution_count": null,
   "id": "9d5e32f5",
   "metadata": {},
   "outputs": [],
   "source": [
    "cv.imshow(\"image\",image_data[55])\n",
    "cv.waitKey(200)\n",
    "cv.destroyAllWindows()"
   ]
  },
  {
   "cell_type": "code",
   "execution_count": null,
   "id": "9995963c",
   "metadata": {},
   "outputs": [],
   "source": [
    "image_data = np.array(image_data)\n",
    "labels_data = np.array(labels_data)"
   ]
  },
  {
   "cell_type": "code",
   "execution_count": null,
   "id": "09796586",
   "metadata": {},
   "outputs": [],
   "source": [
    "from sklearn import preprocessing\n",
    "le = preprocessing.LabelEncoder()\n",
    "le.fit(labels_data)\n",
    "labels_encoded = le.transform(labels_data)"
   ]
  },
  {
   "cell_type": "code",
   "execution_count": null,
   "id": "99d27140",
   "metadata": {},
   "outputs": [],
   "source": [
    "def feature_extractor(dataset):\n",
    "    image_dataset = pd.DataFrame()\n",
    "    for image in range(dataset.shape[0]):\n",
    "        #print(image)\n",
    "        \n",
    "        df = pd.DataFrame()\n",
    "        \n",
    "        img = dataset[image, :,:]\n",
    "     \n",
    "        #Full image\n",
    "        #GLCM = greycomatrix(img, [1], [0, np.pi/4, np.pi/2, 3*np.pi/4])\n",
    "        GLCM = greycomatrix(img, [3], [0])       \n",
    "        GLCM_Energy = greycoprops(GLCM, 'energy')[0]\n",
    "        df['Energy_0'] = GLCM_Energy\n",
    "        GLCM_corr = greycoprops(GLCM, 'correlation')[0]\n",
    "        df['Corr_0'] = GLCM_corr\n",
    "        GLCM_hom = greycoprops(GLCM, 'homogeneity')[0]\n",
    "        df['Homogen_0'] = GLCM_hom       \n",
    "        GLCM_contr = greycoprops(GLCM, 'contrast')[0]\n",
    "        df['Contrast_0'] = GLCM_contr\n",
    "        GLCM_Asm = greycoprops(GLCM, 'ASM')[0]\n",
    "        df['ASM_0'] = GLCM_Asm\n",
    "\n",
    "\n",
    "        GLCM2 = greycomatrix(img, [3], [np.pi/4])       \n",
    "        GLCM_Energy2 = greycoprops(GLCM2, 'energy')[0]\n",
    "        df['Energy_45'] = GLCM_Energy2\n",
    "        GLCM_corr2 = greycoprops(GLCM2, 'correlation')[0]\n",
    "        df['Corr_45'] = GLCM_corr2\n",
    "        GLCM_hom2 = greycoprops(GLCM2, 'homogeneity')[0]\n",
    "        df['Homogen_45'] = GLCM_hom2       \n",
    "        GLCM_contr2 = greycoprops(GLCM2, 'contrast')[0]\n",
    "        df['Contrast_45'] = GLCM_contr2\n",
    "        GLCM_Asm2 = greycoprops(GLCM, 'ASM')[0]\n",
    "        df['ASM_45'] = GLCM_Asm2\n",
    "\n",
    "        GLCM3 = greycomatrix(img, [3], [np.pi/2])       \n",
    "        GLCM_Energy3 = greycoprops(GLCM3, 'energy')[0]\n",
    "        df['Energy_90'] = GLCM_Energy3\n",
    "        GLCM_corr3 = greycoprops(GLCM3, 'correlation')[0]\n",
    "        df['Corr_90'] = GLCM_corr3\n",
    "        GLCM_hom3 = greycoprops(GLCM3, 'homogeneity')[0]\n",
    "        df['Homogen_90'] = GLCM_hom3       \n",
    "        GLCM_contr3 = greycoprops(GLCM3, 'contrast')[0]\n",
    "        df['Contrast_90'] = GLCM_contr3\n",
    "        GLCM_Asm3 = greycoprops(GLCM, 'ASM')[0]\n",
    "        df['ASM_90'] = GLCM_Asm3\n",
    "\n",
    "        GLCM4 = greycomatrix(img, [3], [3*np.pi/4])       \n",
    "        GLCM_Energy4 = greycoprops(GLCM4, 'energy')[0]\n",
    "        df['Energy_135'] = GLCM_Energy4\n",
    "        GLCM_corr4 = greycoprops(GLCM4, 'correlation')[0]\n",
    "        df['Corr_135'] = GLCM_corr4\n",
    "        GLCM_hom4 = greycoprops(GLCM4, 'homogeneity')[0]\n",
    "        df['Homogen_135'] = GLCM_hom4       \n",
    "        GLCM_contr4 = greycoprops(GLCM4, 'contrast')[0]\n",
    "        df['Contrast_135'] = GLCM_contr4\n",
    "        GLCM_Asm4 = greycoprops(GLCM, 'ASM')[0]\n",
    "        df['ASM_135'] = GLCM_Asm4\n",
    "        \n",
    "        \n",
    "\n",
    "        image_dataset = image_dataset.append(df)\n",
    "        \n",
    "    return image_dataset"
   ]
  },
  {
   "cell_type": "code",
   "execution_count": null,
   "id": "f694fa83",
   "metadata": {},
   "outputs": [],
   "source": [
    "image_features = feature_extractor(image_data)\n",
    "column_list = image_features.columns"
   ]
  },
  {
   "cell_type": "code",
   "execution_count": null,
   "id": "f7f215ad",
   "metadata": {},
   "outputs": [],
   "source": [
    "image_features['output'] = labels_encoded"
   ]
  },
  {
   "cell_type": "code",
   "execution_count": null,
   "id": "909bba9e",
   "metadata": {},
   "outputs": [],
   "source": [
    "image_features['filenames'] = image_paths"
   ]
  },
  {
   "cell_type": "code",
   "execution_count": null,
   "id": "189bf19c",
   "metadata": {},
   "outputs": [],
   "source": [
    "image_features.to_csv(\"features.csv\")\n",
    "image_features.head()"
   ]
  }
 ],
 "metadata": {
  "kernelspec": {
   "display_name": "fish_env",
   "language": "python",
   "name": "fish_env"
  },
  "language_info": {
   "codemirror_mode": {
    "name": "ipython",
    "version": 3
   },
   "file_extension": ".py",
   "mimetype": "text/x-python",
   "name": "python",
   "nbconvert_exporter": "python",
   "pygments_lexer": "ipython3",
   "version": "3.7.11"
  }
 },
 "nbformat": 4,
 "nbformat_minor": 5
}
